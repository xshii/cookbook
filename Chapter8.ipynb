{
 "cells": [
  {
   "cell_type": "markdown",
   "metadata": {
    "collapsed": true
   },
   "source": [
    "## 8.7 Call a method on a parent class - super(). MRO __setattr__()"
   ]
  },
  {
   "cell_type": "code",
   "execution_count": 35,
   "metadata": {},
   "outputs": [],
   "source": [
    "class Base:\n",
    "    def __init__(self):\n",
    "        print('Base.__init__')\n",
    "class A(Base):\n",
    "    def __init__(self):\n",
    "        super().__init__()\n",
    "        print('A.__init__')\n",
    "class B(Base):\n",
    "    def __init__(self):\n",
    "        super().__init__()\n",
    "        print('B.__init__')\n",
    "class C(B,A):\n",
    "    def __init__(self):\n",
    "        super().__init__() # Only one call to super() here\n",
    "        print('C.__init__')"
   ]
  },
  {
   "cell_type": "code",
   "execution_count": 36,
   "metadata": {},
   "outputs": [
    {
     "name": "stdout",
     "output_type": "stream",
     "text": [
      "Base.__init__\n",
      "A.__init__\n",
      "B.__init__\n",
      "C.__init__\n"
     ]
    }
   ],
   "source": [
    "c = C()"
   ]
  },
  {
   "cell_type": "code",
   "execution_count": 37,
   "metadata": {},
   "outputs": [
    {
     "data": {
      "text/plain": [
       "(__main__.C, __main__.B, __main__.A, __main__.Base, object)"
      ]
     },
     "execution_count": 37,
     "metadata": {},
     "output_type": "execute_result"
    }
   ],
   "source": [
    "C.__mro__"
   ]
  },
  {
   "cell_type": "markdown",
   "metadata": {},
   "source": [
    "## 8.10 Use lazily computed properties - @lazyproperty setattr"
   ]
  },
  {
   "cell_type": "code",
   "execution_count": 38,
   "metadata": {},
   "outputs": [],
   "source": [
    "class lazyproperty: \n",
    "\tdef __init__(self, func): \n",
    "\t\tself.func = func \n",
    "\t\n",
    "\tdef __get__(self, instance, cls): \n",
    "\t\tif instance is None: \n",
    "\t\t\treturn self \n",
    "\t\telse:\n",
    "\t\t\tvalue = self.func(instance)\n",
    "\t\t\tsetattr(instance, self.func.__name__,value)\n",
    "\t\t\treturn value"
   ]
  },
  {
   "cell_type": "code",
   "execution_count": 45,
   "metadata": {},
   "outputs": [],
   "source": [
    "import math\n",
    "\n",
    "class Circle: \n",
    "\tdef __init__(self, radius): \n",
    "\t\tself.radius = radius \n",
    "    \n",
    "\t@lazyproperty \n",
    "\tdef area(self): \n",
    "\t\tprint('Computing area') \n",
    "\t\treturn math.pi * self.radius ** 2 \n",
    "\n",
    "\t@lazyproperty \n",
    "\tdef perimeter(self): \n",
    "\t\tprint('Computing perimeter') \n",
    "\t\treturn 2 * math.pi * self.radius"
   ]
  },
  {
   "cell_type": "code",
   "execution_count": 53,
   "metadata": {},
   "outputs": [],
   "source": [
    "a = Circle(3)"
   ]
  },
  {
   "cell_type": "code",
   "execution_count": 54,
   "metadata": {},
   "outputs": [
    {
     "name": "stdout",
     "output_type": "stream",
     "text": [
      "Computing area\n"
     ]
    },
    {
     "data": {
      "text/plain": [
       "28.274333882308138"
      ]
     },
     "execution_count": 54,
     "metadata": {},
     "output_type": "execute_result"
    }
   ],
   "source": [
    "a.area"
   ]
  },
  {
   "cell_type": "code",
   "execution_count": 55,
   "metadata": {},
   "outputs": [],
   "source": []
  },
  {
   "cell_type": "code",
   "execution_count": 56,
   "metadata": {},
   "outputs": [
    {
     "data": {
      "text/plain": [
       "28.274333882308138"
      ]
     },
     "execution_count": 56,
     "metadata": {},
     "output_type": "execute_result"
    }
   ],
   "source": [
    "a.area"
   ]
  },
  {
   "cell_type": "markdown",
   "metadata": {},
   "source": [
    "## 8.25 Create cashed instance - weakref.WeakValueDictionary()"
   ]
  },
  {
   "cell_type": "code",
   "execution_count": 64,
   "metadata": {},
   "outputs": [],
   "source": [
    "import weakref \n",
    "\n",
    "class CachedSpamManager: \n",
    "\tdef __init__(self): \n",
    "\t\tself._cache = weakref.WeakValueDictionary() \n",
    "\n",
    "\tdef get_spam(self, name): \n",
    "\t\tif name not in self._cache: \n",
    "\t\t\ts = Spam(name) \n",
    "\t\t\tself._cache[name] = s \n",
    "\t\telse: \n",
    "\t\t\ts = self._cache[name] \n",
    "\t\treturn s \n",
    "z\n",
    "\tdef clear(self): \n",
    "\t\tself._cache.clear() \n",
    "\n",
    "class Spam: \n",
    "\tmanager = CachedSpamManager()\n",
    "\tdef __init__(self, name): \n",
    "\t\tself.name = name \n",
    "\t\n",
    "def get_spam(name): \n",
    "\treturn Spam.manager.get_spam(name)"
   ]
  },
  {
   "cell_type": "code",
   "execution_count": 65,
   "metadata": {},
   "outputs": [],
   "source": [
    "a = Spam('foo')\n",
    "b = Spam('foo')"
   ]
  },
  {
   "cell_type": "code",
   "execution_count": 66,
   "metadata": {},
   "outputs": [
    {
     "data": {
      "text/plain": [
       "False"
      ]
     },
     "execution_count": 66,
     "metadata": {},
     "output_type": "execute_result"
    }
   ],
   "source": [
    "a is b"
   ]
  },
  {
   "cell_type": "code",
   "execution_count": null,
   "metadata": {},
   "outputs": [],
   "source": []
  }
 ],
 "metadata": {
  "kernelspec": {
   "display_name": "Python 3",
   "language": "python",
   "name": "python3"
  },
  "language_info": {
   "codemirror_mode": {
    "name": "ipython",
    "version": 3
   },
   "file_extension": ".py",
   "mimetype": "text/x-python",
   "name": "python",
   "nbconvert_exporter": "python",
   "pygments_lexer": "ipython3",
   "version": "3.6.3"
  }
 },
 "nbformat": 4,
 "nbformat_minor": 1
}
